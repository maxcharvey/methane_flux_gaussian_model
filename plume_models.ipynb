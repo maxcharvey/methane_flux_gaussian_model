{
 "cells": [
  {
   "cell_type": "markdown",
   "metadata": {},
   "source": [
    "# Concentration function with exponential crosswind and no reflection term"
   ]
  },
  {
   "cell_type": "markdown",
   "metadata": {},
   "source": []
  },
  {
   "cell_type": "code",
   "execution_count": 1,
   "metadata": {},
   "outputs": [],
   "source": [
    "#%matplotlib widget\n",
    "import flux_model as fm \n",
    "import flux_plots as fp\n",
    "import numpy as np\n",
    "import matplotlib.pyplot as plt"
   ]
  },
  {
   "cell_type": "markdown",
   "metadata": {},
   "source": [
    "\n",
    "# Concentration Function and Equations\n",
    "\n",
    "The concentration of pollutants at a point \\\\((x, y, z)\\\\) is given by:\n",
    "\n",
    "\\begin{aligned}\n",
    "C(x, y, z) =\\ & \\frac{q}{2 \\pi u \\left( \\dfrac{x}{1000} \\right) \\sigma_y \\cdot \\sigma_z }\n",
    "& \\times \\left[ \\exp\\left( -\\dfrac{ (z - h)^2 }{ 2 \\sigma_z^2 } \\right) + \\exp\\left( -\\dfrac{ (z + h)^2 }{ 2 \\sigma_z^2 } \\right) \\right] \\times \\exp\\left( -\\dfrac{ y^2 }{ 2 \\sigma_y^2 } \\right)\n",
    "\\end{aligned}\n",
    "\n",
    "\n",
    "## Explanation of Each Term\n",
    "\n",
    "- **$C(x, y, z)$**: Concentration of the pollutant at point $(x, y, z)$ in grams per cubic meter (**g/m³**).\n",
    "\n",
    "- **$q$**: Emission rate of the pollutant source in grams per second (**g/s**).\n",
    "\n",
    "- **$u$**: Wind speed at the source height in meters per second (**m/s**).\n",
    "\n",
    "- **$(a_{\\text{case}}, b_{\\text{case}}, c_{\\text{case}}, d_{\\text{case}})$**: Empirical coefficients depending on the Pasquill-Giffard atmospheric stability class (more on this later).\n",
    "\n",
    "- **$h$**: Source height (**m**).\n",
    "\n",
    "- **$x$**: Downwind distance from the source in meters (**m**), converted to kilometers by dividing by 1000.\n",
    "\n",
    "- **$y$**: Crosswind distance from the centerline of the plume in meters (**m**).\n",
    "\n",
    "- **$z$**: Vertical distance above ground level in meters (**m**).\n"
   ]
  },
  {
   "cell_type": "code",
   "execution_count": null,
   "metadata": {},
   "outputs": [],
   "source": [
    "# Parameters\n",
    "q = 1.0      # Emission rate in grams per second\n",
    "u = 5.0       # Wind speed in meters per second\n",
    "h = 50.0      # Effective stack height in meters\n",
    "ls = 1000.0    # Source width in meters\n",
    "case = 2     # Atmospheric stability class (0-based index, from 0 to 5)\n",
    "\n",
    "# Create the coordinate grids\n",
    "x = np.linspace(0, 5000, 100)\n",
    "y = np.linspace(-1000, 1000, 100)\n",
    "z = np.linspace(0, 700, 50)\n",
    "X, Y, Z = np.meshgrid(x, y, z, indexing='ij')\n",
    "\n",
    "# Compute the concentration data\n",
    "concentration = fm.conc_point(q, u, X, Y, Z, h, case)\n",
    "\n",
    "#fp.plot_isosurfaces(X, Y, Z, concentration, cmap='viridis')\n",
    "fp.plot_concentration_surface(X, Y, Z, concentration, z_level=10)"
   ]
  },
  {
   "cell_type": "markdown",
   "metadata": {},
   "source": [
    "# Dispersion\n",
    "\n",
    "## Vertical Dispersion Term:\n",
    "\n",
    "  $\\exp\\left( -\\dfrac{ (z - h)^2 }{ 2 \\sigma_z^2 } \\right) + \\exp\\left( -\\dfrac{ (z + h)^2 }{ 2 \\sigma_z^2 } \\right)$\n",
    "\n",
    "  - Models the vertical spread of the plume, including reflection at the ground.\n",
    "\n",
    "  $\\sigma_z = a_{\\text{case}} \\left( \\frac{x}{1000} \\right)^{b_{\\text{case}}}$\n",
    "\n",
    "## Crosswind Dispersion Term\n",
    "\n",
    "  $\\exp\\left( -\\dfrac{ y^2 }{ 2 \\sigma_y^2 } \\right)$\n",
    "\n",
    "  - Models the horizontal spread of the plume in the crosswind direction.\n",
    "\n",
    "  $\\sigma_y = 465.11628 \\left( \\frac{x}{1000} \\right) \\tan\\left( \\theta \\right)$\n",
    "\n",
    "  Where:\n",
    "\n",
    "  $\\theta = 0.017453293 \\left( c_{\\text{case}} - d_{\\text{case}} \\ln\\left( \\frac{x}{1000} \\right) \\right)$\n",
    "\n",
    "  - **$0.017453293$**: Conversion factor from degrees to radians ($ \\frac{\\pi}{180} \\approx 0.017453293 $)."
   ]
  },
  {
   "cell_type": "code",
   "execution_count": null,
   "metadata": {},
   "outputs": [],
   "source": [
    "a = np.array([170.0, 98.0, 61.0, 32.0, 21.0, 14.0])\n",
    "b = np.array([1.09, 0.98, 0.91, 0.81, 0.75, 0.68])\n",
    "c = np.array([24.0, 18.0, 12.0, 8.0, 6.0, 4.0])\n",
    "d = np.array([2.5, 1.8, 1.1, 0.72, 0.54, 0.36])\n",
    "\n",
    "# Parameters\n",
    "q = 1000.0  # Emission rate (grams per second)\n",
    "u = 5.0     # Wind speed (meters per second)\n",
    "x = 1000.0  # Downwind distance (meters)\n",
    "h = 50.0    # Effective stack height (meters)\n",
    "case = 2    # Atmospheric stability class index (0-based, e.g., 2 for Class C)\n",
    "\n",
    "# Convert x to kilometers\n",
    "x_km = x / 1000.0\n",
    "\n",
    "# Retrieve parameters for the given case\n",
    "c_case = c[case]\n",
    "d_case = d[case]\n",
    "a_case = a[case]\n",
    "b_case = b[case]\n",
    "\n",
    "# Calculate the angle in degrees and then convert to radians\n",
    "angle_deg = c_case - d_case * np.log(x_km)\n",
    "angle_rad = np.radians(angle_deg)\n",
    "\n",
    "# Calculate the tangent term\n",
    "tan_term = np.tan(angle_rad)\n",
    "\n",
    "# Constants\n",
    "constant = 465.11628\n",
    "\n",
    "# Calculate dispersion parameters\n",
    "sigma_z = a_case * x_km ** b_case\n",
    "sigma_y = constant * x_km * tan_term\n",
    "\n",
    "# Create arrays for y and z\n",
    "y = np.linspace(-500, 500, 1000)  # Crosswind distances (meters)\n",
    "z = np.linspace(-300, 300, 1000)     # Vertical distances (meters)\n",
    "\n",
    "# Compute exponential terms\n",
    "exp_y = np.exp(-y ** 2 / (2 * sigma_y ** 2))\n",
    "exp_z = np.exp(-((z - h) ** 2) / (2 * sigma_z ** 2)) + np.exp(-((z + h) ** 2) / (2 * sigma_z ** 2))\n",
    "exp_z_virtual = np.exp(-((z + h) ** 2) / (2 * sigma_z ** 2))\n",
    "exp_z_reflection = np.exp(-((z - h) ** 2) / (2 * sigma_z ** 2)) \n",
    "\n",
    "# Plotting\n",
    "fig, (ax1, ax2, ax3) = plt.subplots(1, 3, figsize=(12, 5))\n",
    "\n",
    "# Plot exp_y vs y\n",
    "ax1.plot(y, exp_y)\n",
    "ax1.set_title('Crosswind Dispersion Term')\n",
    "ax1.set_xlabel('Crosswind Distance y (m)')\n",
    "ax1.set_ylabel('Exponential Term in y')\n",
    "\n",
    "# Plot exp_z vs z\n",
    "ax2.plot(exp_z, z, label='Verticle dispersion')\n",
    "ax2.plot(exp_z_reflection, z, linestyle='--', label='No reflection')\n",
    "ax2.plot(exp_z_virtual, z, linestyle='--', label='Virtual source')\n",
    "ax2.set_title('Vertical Dispersion Term')\n",
    "ax2.set_xlabel('Exponential Term in z')\n",
    "ax2.set_ylabel('Vertical Distance z (m)')\n",
    "ax2.set_ylim(-300, 300)\n",
    "# Add a horizontal dashed red line at the source height\n",
    "ax2.axhline(y=h, color='red', linestyle='--', label='Source Height')\n",
    "\n",
    "# Add legend to ax2\n",
    "ax2.legend()\n",
    "\n",
    "ax3 = fp.plot_dispersion_ellipse(x, h, case, ax=ax3)\n",
    "\n",
    "plt.tight_layout()\n",
    "plt.show()"
   ]
  },
  {
   "cell_type": "code",
   "execution_count": null,
   "metadata": {},
   "outputs": [],
   "source": [
    "fp.plot_isosurfaces(X, Y, Z, concentration, iso_concentrations=[1e-8, 1e-7, 1e-6, 1e-5, 1e-4])"
   ]
  },
  {
   "cell_type": "code",
   "execution_count": null,
   "metadata": {},
   "outputs": [],
   "source": [
    "\n",
    "# Call the interactive plotting function\n",
    "fig, ax = fp.plot_concentration_contours_yz_plane_interactive(X, Y, Z, concentration)\n"
   ]
  }
 ],
 "metadata": {
  "kernelspec": {
   "display_name": "gaussian_mixing",
   "language": "python",
   "name": "python3"
  },
  "language_info": {
   "codemirror_mode": {
    "name": "ipython",
    "version": 3
   },
   "file_extension": ".py",
   "mimetype": "text/x-python",
   "name": "python",
   "nbconvert_exporter": "python",
   "pygments_lexer": "ipython3",
   "version": "3.13.0"
  }
 },
 "nbformat": 4,
 "nbformat_minor": 2
}
